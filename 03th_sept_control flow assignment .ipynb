{
 "cells": [
  {
   "cell_type": "code",
   "execution_count": 8,
   "id": "c2dd7a57-8357-4ef9-a9e7-2e175aa4f490",
   "metadata": {},
   "outputs": [
    {
     "name": "stdin",
     "output_type": "stream",
     "text": [
      "enter any number -1\n"
     ]
    },
    {
     "name": "stdout",
     "output_type": "stream",
     "text": [
      "negative\n"
     ]
    }
   ],
   "source": [
    "# ques1 Python program to check if a given number is positive or negative.\n",
    "\n",
    "x= int(input( \"enter any number\"))\n",
    "if x>0:\n",
    "       print(\"positive\")\n",
    "else:\n",
    "       print(\"negative\")"
   ]
  },
  {
   "cell_type": "code",
   "execution_count": 12,
   "id": "e420b764-72e3-430b-ad78-170cd0de2fca",
   "metadata": {},
   "outputs": [
    {
     "name": "stdin",
     "output_type": "stream",
     "text": [
      "enter age 23\n"
     ]
    },
    {
     "name": "stdout",
     "output_type": "stream",
     "text": [
      "person is eligible for vote\n"
     ]
    }
   ],
   "source": [
    "# Create a program that determines if a person is eligible to vote based on their age.\n",
    "age= int(input(\"enter age\"))\n",
    "#per can vote whose age is equal or more than 18\n",
    "if age>=18:\n",
    "    print( \"person is eligible for vote\")\n",
    "else:\n",
    "    print( \"not eligible for vote\")\n"
   ]
  },
  {
   "cell_type": "code",
   "execution_count": 7,
   "id": "3c7eaffa-e74e-47e9-9b7e-e903d6aa620e",
   "metadata": {},
   "outputs": [
    {
     "name": "stdin",
     "output_type": "stream",
     "text": [
      "enetr n1 44\n",
      "enetr n2 32\n"
     ]
    },
    {
     "name": "stdout",
     "output_type": "stream",
     "text": [
      "n1 is maximum\n"
     ]
    }
   ],
   "source": [
    "# ques 3 Develop a program to find the maximum of two numbers using if-else statements.\n",
    "\n",
    "n1= float(input(\"enetr n1\"))\n",
    "n2= float(input(\"enetr n2\"))\n",
    "if n1>n2:\n",
    "    print(\"n1 is maximum\")\n",
    "elif n1<n2:\n",
    "    print(\"n2 is maximum\")\n",
    "else:\n",
    "    print(\" both are equal\")\n",
    "        "
   ]
  },
  {
   "cell_type": "code",
   "execution_count": 25,
   "id": "42187eb9-ea41-4f06-b891-81a0645090c1",
   "metadata": {},
   "outputs": [
    {
     "name": "stdin",
     "output_type": "stream",
     "text": [
      "enter year 1996\n"
     ]
    },
    {
     "name": "stdout",
     "output_type": "stream",
     "text": [
      "leap year\n"
     ]
    }
   ],
   "source": [
    "# ques4 Write a Python script to classify a given year as a leap year or not.\n",
    "\n",
    "year=int(input( \"enter year\"))\n",
    "if year%4==0:\n",
    "    print(\"leap year\")\n",
    "else:\n",
    "    print(\" not a leap year\")\n",
    "    "
   ]
  },
  {
   "cell_type": "code",
   "execution_count": 35,
   "id": "152b56b2-2c8a-4d1f-a704-d4242011afcd",
   "metadata": {},
   "outputs": [
    {
     "name": "stdin",
     "output_type": "stream",
     "text": [
      "enter any char t\n"
     ]
    },
    {
     "name": "stdout",
     "output_type": "stream",
     "text": [
      "consonant\n"
     ]
    }
   ],
   "source": [
    "# ques 5 Create a program that checks whether a character is a vowel or a consonant.\n",
    "char= input( \"enter any char\")\n",
    "if char == 'a' or char == 'e' or char == 'i' or char == 'o' or char == 'u':\n",
    "    print(\"vowel\")\n",
    "else:\n",
    "    print(\"consonant\")"
   ]
  },
  {
   "cell_type": "code",
   "execution_count": 37,
   "id": "d39b1f07-c384-4123-9fd0-d7b06d01c3ca",
   "metadata": {},
   "outputs": [
    {
     "name": "stdin",
     "output_type": "stream",
     "text": [
      "enter n 7\n"
     ]
    },
    {
     "name": "stdout",
     "output_type": "stream",
     "text": [
      "odd number\n"
     ]
    }
   ],
   "source": [
    "# ques 6 Implement a program to determine whether a given number is even or odd.\n",
    "n= int(input(\"enter n\"))\n",
    "# evn or odd\n",
    "\n",
    "if n %2==0:\n",
    "    print(\"even number\")\n",
    "else:\n",
    "    print(\"odd number\")"
   ]
  },
  {
   "cell_type": "code",
   "execution_count": 35,
   "id": "a0714b32-0b30-4629-ba1f-17191d154e21",
   "metadata": {},
   "outputs": [
    {
     "name": "stdin",
     "output_type": "stream",
     "text": [
      "enter number -6\n"
     ]
    },
    {
     "name": "stdout",
     "output_type": "stream",
     "text": [
      "6.0\n"
     ]
    }
   ],
   "source": [
    "# ques 7 Write a Python function to calculate the absolute value of a number without using the `abs()` function.\n",
    "x = float(input(\"enter number\"))\n",
    "if x <0:\n",
    "    print(-x)\n",
    "elif x>0:\n",
    "    print(x)\n",
    "    pass"
   ]
  },
  {
   "cell_type": "code",
   "execution_count": 51,
   "id": "e30a2634-cf8c-4fac-a1ca-583706df20bb",
   "metadata": {},
   "outputs": [
    {
     "name": "stdin",
     "output_type": "stream",
     "text": [
      "Enter the first number:  55\n",
      "Enter the second number:  90\n",
      "Enter the third number:  33\n"
     ]
    },
    {
     "name": "stdout",
     "output_type": "stream",
     "text": [
      "The largest number is: 90.0\n"
     ]
    }
   ],
   "source": [
    "# wues 8 Develop a program that determines the largest of three given numbers using if-else statements.\n",
    " \n",
    "num1 = float(input(\"Enter the first number: \"))\n",
    "num2 = float(input(\"Enter the second number: \"))\n",
    "num3 = float(input(\"Enter the third number: \"))\n",
    "\n",
    "# Initialize a variable to store the largest number\n",
    "largest = num1\n",
    "\n",
    "# Compare num2 and num3 with the largest number\n",
    "if num2 > largest:\n",
    "    largest = num2\n",
    "if num3 > largest:\n",
    "    largest = num3\n",
    "\n",
    "# Display the largest number\n",
    "print(\"The largest number is:\", largest)"
   ]
  },
  {
   "cell_type": "code",
   "execution_count": 8,
   "id": "23127d9e-11a1-4967-9956-b664a8f8ac22",
   "metadata": {},
   "outputs": [
    {
     "name": "stdin",
     "output_type": "stream",
     "text": [
      "enter any word ranaji\n"
     ]
    },
    {
     "name": "stdout",
     "output_type": "stream",
     "text": [
      "not a palindorme\n"
     ]
    }
   ],
   "source": [
    "# ques 9 Create a program that checks if a given string is a palindrome.\n",
    "a= input(\"enter any word\")\n",
    "# check if its palidrome\n",
    "b=a[::-1]\n",
    "if (a==b):\n",
    "    print(\"palidrome\")\n",
    "else:\n",
    "    print(\"not a palindorme\")"
   ]
  },
  {
   "cell_type": "code",
   "execution_count": 11,
   "id": "d19cbffc-c0dc-4992-978e-25bb434eec7c",
   "metadata": {},
   "outputs": [
    {
     "name": "stdout",
     "output_type": "stream",
     "text": [
      "Enter Marks Obtained in 5 Subjects: \n"
     ]
    },
    {
     "name": "stdin",
     "output_type": "stream",
     "text": [
      " 90\n",
      " 80\n",
      " 66\n",
      " 90\n",
      " 78\n"
     ]
    },
    {
     "name": "stdout",
     "output_type": "stream",
     "text": [
      "Your Grade is B1\n"
     ]
    }
   ],
   "source": [
    "# ques 10 Write a Python program to calculate the grade based on a student's score.\n",
    "print(\"Enter Marks Obtained in 5 Subjects: \")\n",
    "markOne = int(input())\n",
    "markTwo = int(input())\n",
    "markThree = int(input())\n",
    "markFour = int(input())\n",
    "markFive = int(input())\n",
    "\n",
    "tot = markOne+markTwo+markThree+markFour+markFive\n",
    "avg = tot/5\n",
    "\n",
    "if avg>=91 and avg<=100:\n",
    "    print(\"Your Grade is A1\")\n",
    "elif avg>=81 and avg<91:\n",
    "    print(\"Your Grade is A2\")\n",
    "elif avg>=71 and avg<81:\n",
    "    print(\"Your Grade is B1\")\n",
    "elif avg>=61 and avg<71:\n",
    "    print(\"Your Grade is B2\")\n",
    "elif avg>=51 and avg<61:\n",
    "    print(\"Your Grade is C1\")\n",
    "elif avg>=41 and avg<51:\n",
    "    print(\"Your Grade is C2\")\n",
    "elif avg>=33 and avg<41:\n",
    "    print(\"Your Grade is D\")\n",
    "elif avg>=21 and avg<33:\n",
    "    print(\"Your Grade is E1\")\n",
    "elif avg>=0 and avg<21:\n",
    "    print(\"Your Grade is E2\")\n",
    "else:\n",
    "    print(\"Invalid Input!\")"
   ]
  },
  {
   "cell_type": "code",
   "execution_count": 7,
   "id": "4fb1ad24-2c96-434e-ab0e-84a35f7f887f",
   "metadata": {},
   "outputs": [
    {
     "name": "stdin",
     "output_type": "stream",
     "text": [
      "enter n1 455\n",
      "enter n2 55\n",
      "enter n3 66\n"
     ]
    },
    {
     "name": "stdout",
     "output_type": "stream",
     "text": [
      "n1 is largest\n"
     ]
    }
   ],
   "source": [
    "# Nested If-Else Statements:\n",
    "# ques 1 program to find the largest among three numbers using nested if-else statements.\n",
    "n1= float(input(\"enter n1\"))\n",
    "n2= float(input(\"enter n2\"))\n",
    "n3= float(input(\"enter n3\"))\n",
    "\n",
    "if n1>n2:\n",
    "    if n1>n3:\n",
    "        print( \"n1 is largest\")\n",
    "elif n2>n1:\n",
    "    if n2>n3:\n",
    "        print( \"n2 is largest\")\n",
    "    else:\n",
    "        print(\"n3 is largest\")\n",
    "    "
   ]
  },
  {
   "cell_type": "code",
   "execution_count": 3,
   "id": "ff0c9775-e836-4fee-92f5-c5c63eb06ac7",
   "metadata": {},
   "outputs": [
    {
     "name": "stdin",
     "output_type": "stream",
     "text": [
      "enter l1 5\n",
      "enter l2 6\n",
      "enter l3 9\n"
     ]
    },
    {
     "name": "stdout",
     "output_type": "stream",
     "text": [
      "Scalene triangle\n"
     ]
    }
   ],
   "source": [
    "# ques 2 Implement a program to determine if a triangle is equilateral, isosceles, or scalene.\n",
    "l1= float(input(\"enter l1\"))\n",
    "l2= float(input(\"enter l2\"))\n",
    "l3= float(input(\"enter l3\"))\n",
    "if l1 == l2 == l3:\n",
    "\tprint(\"Equilateral triangle\")\n",
    "elif l1==l2 or l2==l3 or l3==l1:\n",
    "\tprint(\"isosceles triangle\")\n",
    "else:\n",
    "\tprint(\"Scalene triangle\")"
   ]
  },
  {
   "cell_type": "code",
   "execution_count": 5,
   "id": "75d4c720-58bd-40e0-bf54-bfff19932d42",
   "metadata": {},
   "outputs": [
    {
     "name": "stdin",
     "output_type": "stream",
     "text": [
      "Enter the year to be checked:  1987\n"
     ]
    },
    {
     "name": "stdout",
     "output_type": "stream",
     "text": [
      "The year is not a leap year!\n"
     ]
    }
   ],
   "source": [
    "# ques 3 Develop a program that checks if a year is a leap year and also if it is a century year.\n",
    "year = int(input(\"Enter the year to be checked: \"))\n",
    "if (year % 4) == 0:\n",
    "    if (year % 100) == 0:\n",
    "        if (year % 400) == 0:\n",
    "            print(\"The year is a leap year!\")\n",
    "        else:\n",
    "            print(\"The year is a not leap year!\")\n",
    "    else:\n",
    "        print(\"The year is a leap year!\")\n",
    "else:\n",
    "    print(\"The year is not a leap year!\")"
   ]
  },
  {
   "cell_type": "code",
   "execution_count": 13,
   "id": "900b962d-9be1-4117-88ae-e7f8997616a1",
   "metadata": {},
   "outputs": [
    {
     "name": "stdin",
     "output_type": "stream",
     "text": [
      " enter n1 -6\n"
     ]
    },
    {
     "name": "stdout",
     "output_type": "stream",
     "text": [
      " n1 is negative\n"
     ]
    }
   ],
   "source": [
    "# ques 4 Write a Python script to determine if a number is positive, negative, or zero.\n",
    "n1= int(input(\" enter n1\"))\n",
    "if n1>=0:\n",
    "    if n1==0:\n",
    "        print( \" n1 is zer0\")\n",
    "    else:\n",
    "        print(\" n1 is positive \")\n",
    "else:\n",
    "    print(\" n1 is negative\")"
   ]
  },
  {
   "cell_type": "code",
   "execution_count": 24,
   "id": "9e6cdbca-8633-4a41-8021-1ec918adc6b6",
   "metadata": {},
   "outputs": [
    {
     "name": "stdin",
     "output_type": "stream",
     "text": [
      " enter age  15\n"
     ]
    },
    {
     "name": "stdout",
     "output_type": "stream",
     "text": [
      "teenager\n"
     ]
    }
   ],
   "source": [
    "# ques 5 Create a program to check if a person is a teenager (between 13 and 19 years old).\n",
    "age= int(input(\" enter age \"))\n",
    "if 13<age<19:\n",
    "    print( \"teenager\")\n",
    "else:\n",
    "    print(\" not teenager\")\n",
    "        "
   ]
  },
  {
   "cell_type": "code",
   "execution_count": 52,
   "id": "e1a17702-3430-406f-9996-12e95d5c2a97",
   "metadata": {},
   "outputs": [
    {
     "name": "stdin",
     "output_type": "stream",
     "text": [
      "Enter the angle measure in degrees:  170\n"
     ]
    },
    {
     "name": "stdout",
     "output_type": "stream",
     "text": [
      "The angle is Obtuse\n"
     ]
    }
   ],
   "source": [
    "# ques 6 Develop a program that determines the type of angle based on its measure (acute, obtuse, or right)\n",
    "# Taking user input for the angle measure\n",
    "angle = float(input(\"Enter the angle measure in degrees: \"))\n",
    "\n",
    "# Checking the type of angle using nested if-else statements\n",
    "if angle > 0 and angle < 90:\n",
    "    angle_type = \"Acute\"\n",
    "elif angle == 90:\n",
    "    angle_type = \"Right\"\n",
    "elif angle > 90 and angle < 180:c\n",
    "    angle_type = \"Obtuse\"\n",
    "else:\n",
    "    angle_type = \"Invalid angle measure\"\n",
    "\n",
    "# Displaying the result\n",
    "print(\"The angle is\", angle_type)"
   ]
  },
  {
   "cell_type": "code",
   "execution_count": 37,
   "id": "0898c865-6a7d-4613-9bea-4d849a495538",
   "metadata": {},
   "outputs": [
    {
     "name": "stdin",
     "output_type": "stream",
     "text": [
      "Enter the coefficient a:  5\n",
      "Enter the coefficient b:  9\n",
      "Enter the coefficient c:  4\n"
     ]
    },
    {
     "name": "stdout",
     "output_type": "stream",
     "text": [
      "The roots are real and distinct.\n",
      "Root 1 = -0.8\n",
      "Root 2 = -1.0\n"
     ]
    }
   ],
   "source": [
    "# ques 7 Write a Python program to calculate the roots of a quadratic equation.\n",
    "# Taking user input for coefficients\n",
    "a = float(input(\"Enter the coefficient a: \"))\n",
    "b = float(input(\"Enter the coefficient b: \"))\n",
    "c = float(input(\"Enter the coefficient c: \"))\n",
    "\n",
    "# Calculate the discriminant\n",
    "discriminant = b**2 - 4*a*c\n",
    "\n",
    "# Checking the discriminant to determine the type of roots\n",
    "if discriminant > 0:\n",
    "    # Two distinct real roots\n",
    "    root1 = (-b + (discriminant ** 0.5)) / (2 * a)\n",
    "    root2 = (-b - (discriminant ** 0.5)) / (2 * a)\n",
    "    print(\"The roots are real and distinct.\")\n",
    "    print(\"Root 1 =\", root1)\n",
    "    print(\"Root 2 =\", root2)\n",
    "elif discriminant == 0:\n",
    "    # One real root (repeated)\n",
    "    root = -b / (2 * a)\n",
    "    print(\"The root is real and repeated.\")\n",
    "    print(\"Root =\", root)\n",
    "else:\n",
    "    # Complex roots\n",
    "    real_part = -b / (2 * a)\n",
    "    imaginary_part = (abs(discriminant) ** 0.5) / (2 * a)\n",
    "    print(\"The roots are complex.\")\n",
    "    print(\"Root 1 =\", real_part, \"+\", imaginary_part, \"i\")\n",
    "    print(\"Root 2 =\", real_part, \"-\", imaginary_part, \"i\")"
   ]
  },
  {
   "cell_type": "code",
   "execution_count": 40,
   "id": "625270a6-cbbf-4450-b1bb-b9d8e9e03f54",
   "metadata": {},
   "outputs": [
    {
     "name": "stdin",
     "output_type": "stream",
     "text": [
      "Enter a number (1-7) to represent the day of the week:  6\n"
     ]
    },
    {
     "name": "stdout",
     "output_type": "stream",
     "text": [
      "The day corresponding to 6 is Saturday\n"
     ]
    }
   ],
   "source": [
    "# ques 8 \n",
    "# Taking user input for the day number\n",
    "day_number = int(input(\"Enter a number (1-7) to represent the day of the week: \"))\n",
    "\n",
    "# Using nested if-else statements to determine the day of the week\n",
    "if day_number == 1:\n",
    "    day_name = \"Monday\"\n",
    "elif day_number == 2:\n",
    "    day_name = \"Tuesday\"\n",
    "elif day_number == 3:\n",
    "    day_name = \"Wednesday\"\n",
    "elif day_number == 4:\n",
    "    day_name = \"Thursday\"\n",
    "elif day_number == 5:\n",
    "    day_name = \"Friday\"\n",
    "elif day_number == 6:\n",
    "    day_name = \"Saturday\"\n",
    "elif day_number == 7:\n",
    "    day_name = \"Sunday\"\n",
    "else:\n",
    "    day_name = \"Invalid day number\"\n",
    "\n",
    "# Displaying the result\n",
    "print(\"The day corresponding to\", day_number, \"is\", day_name)"
   ]
  },
  {
   "cell_type": "code",
   "execution_count": 42,
   "id": "cca2a493-26ad-4fc9-8981-e41867fa97fc",
   "metadata": {},
   "outputs": [
    {
     "name": "stdin",
     "output_type": "stream",
     "text": [
      "Enter a year:  2018\n"
     ]
    },
    {
     "name": "stdout",
     "output_type": "stream",
     "text": [
      "2018 is not a leap year.\n"
     ]
    }
   ],
   "source": [
    "# ques 9 Create a program that determines if a year is a leap year and also if it is evenly divisible by 400.\n",
    "# Taking user input for the year\n",
    "year = int(input(\"Enter a year: \"))\n",
    "\n",
    "# Check if it's a leap year\n",
    "if (year % 4 == 0 and year % 100 != 0) or (year % 400 == 0):\n",
    "    print(year, \"is a leap year.\")\n",
    "else:\n",
    "    print(year, \"is not a leap year.\")"
   ]
  },
  {
   "cell_type": "code",
   "execution_count": 43,
   "id": "cfbaad6a-c084-433f-aab7-1b39e8199838",
   "metadata": {},
   "outputs": [
    {
     "name": "stdin",
     "output_type": "stream",
     "text": [
      "Enter a number:  7\n"
     ]
    },
    {
     "name": "stdout",
     "output_type": "stream",
     "text": [
      "7 is a prime number.\n"
     ]
    }
   ],
   "source": [
    "# ques 10 \n",
    "# Taking user input for the number to check\n",
    "num = int(input(\"Enter a number: \"))\n",
    "\n",
    "# Check if the number is prime\n",
    "if num > 1:\n",
    "    # A prime number is greater than 1\n",
    "    for i in range(2, int(num ** 0.5) + 1):\n",
    "        if (num % i) == 0:\n",
    "            print(num, \"is not a prime number.\")\n",
    "            break\n",
    "    else:\n",
    "        print(num, \"is a prime number.\")\n",
    "else:\n",
    "    print(num, \"is not a prime number.\")"
   ]
  },
  {
   "cell_type": "code",
   "execution_count": 44,
   "id": "48825bd9-5546-42de-afd4-c35edeaa8113",
   "metadata": {},
   "outputs": [],
   "source": [
    "# Elif Statement\n"
   ]
  },
  {
   "cell_type": "code",
   "execution_count": 46,
   "id": "37ae31db-a6f9-4fa7-9020-b81e5c6e4bfb",
   "metadata": {},
   "outputs": [
    {
     "name": "stdin",
     "output_type": "stream",
     "text": [
      "please enter marks 78\n"
     ]
    },
    {
     "name": "stdout",
     "output_type": "stream",
     "text": [
      "grade B\n"
     ]
    }
   ],
   "source": [
    "# ques 21  Write a Python program to assign grades based on different ranges of scores using elif statements.\n",
    "x=int(input(\"please enter marks\"))\n",
    "if x>80:\n",
    "    print(\"grade A\") \n",
    "elif x>70:\n",
    "    print(\"grade B\")\n",
    "elif x>60:\n",
    "    print(\"grade C\")\n",
    "else:\n",
    "    print(\"grade D\")"
   ]
  },
  {
   "cell_type": "code",
   "execution_count": 54,
   "id": "8b9441cc-cdfb-4454-aef4-963b3a3a5a8d",
   "metadata": {},
   "outputs": [
    {
     "name": "stdin",
     "output_type": "stream",
     "text": [
      "Enter the angle measure in degrees:  170\n"
     ]
    },
    {
     "name": "stdout",
     "output_type": "stream",
     "text": [
      "The angle is Obtuse\n"
     ]
    }
   ],
   "source": [
    "# ques 22 Implement a program to determine the type of a triangle based on its angles.\n",
    "angle = float(input(\"Enter the angle measure in degrees: \"))\n",
    "\n",
    "# Checking the type of angle using nested if-else statements\n",
    "if angle > 0 and angle < 90:\n",
    "    angle_type = \"Acute\"\n",
    "elif angle == 90:\n",
    "    angle_type = \"Right\"\n",
    "elif angle > 90 and angle < 180:\n",
    "    angle_type = \"Obtuse\"\n",
    "else:\n",
    "    angle_type = \"Invalid angle measure\"\n",
    "\n",
    "# Displaying the result\n",
    "print(\"The angle is\", angle_type)\n"
   ]
  },
  {
   "cell_type": "code",
   "execution_count": 57,
   "id": "4c4e9f5b-e846-46e4-8885-3f513517b3a1",
   "metadata": {},
   "outputs": [
    {
     "name": "stdin",
     "output_type": "stream",
     "text": [
      "Enter your weight (in kilograms):  60\n",
      "Enter your height (in meters):  1.7\n"
     ]
    },
    {
     "name": "stdout",
     "output_type": "stream",
     "text": [
      "Your BMI is: 20.761245674740486\n",
      "You are categorized as: Normal\n"
     ]
    }
   ],
   "source": [
    "# ques 23 \n",
    "weight = float(input(\"Enter your weight (in kilograms): \"))\n",
    "height = float(input(\"Enter your height (in meters): \"))\n",
    "\n",
    "# Calculate BMI\n",
    "bmi = weight / (height ** 2)\n",
    "\n",
    "# Categorize BMI using elif statements\n",
    "if bmi < 18.5:\n",
    "    category = \"Underweight\"\n",
    "elif 18.5 <= bmi < 24.9:\n",
    "    category = \"Normal\"\n",
    "elif 25 <= bmi < 29.9:\n",
    "    category = \"Overweight\"\n",
    "else:\n",
    "    category = \"Obese\"\n",
    "\n",
    "# Display the BMI category\n",
    "print(\"Your BMI is:\", bmi)\n",
    "print(\"You are categorized as:\", category)"
   ]
  },
  {
   "cell_type": "code",
   "execution_count": 60,
   "id": "87d8b873-6e17-41dd-8cdc-531b20688028",
   "metadata": {},
   "outputs": [
    {
     "name": "stdin",
     "output_type": "stream",
     "text": [
      "Enter a number:  -8\n"
     ]
    },
    {
     "name": "stdout",
     "output_type": "stream",
     "text": [
      "Negative number\n"
     ]
    }
   ],
   "source": [
    "# ques 24 \n",
    " \n",
    "num = float(input(\"Enter a number: \"))\n",
    "if num > 0:\n",
    "   print(\"Positive number\")\n",
    "elif num == 0:\n",
    "   print(\"Zero\")\n",
    "else:\n",
    "   print(\"Negative number\")"
   ]
  },
  {
   "cell_type": "code",
   "execution_count": 63,
   "id": "5b6645b0-fbc4-4623-89d2-ae9a3916162f",
   "metadata": {},
   "outputs": [
    {
     "name": "stdin",
     "output_type": "stream",
     "text": [
      "Please enter a character:  @\n"
     ]
    },
    {
     "name": "stdout",
     "output_type": "stream",
     "text": [
      "@  is special ch\n"
     ]
    }
   ],
   "source": [
    "# Ques 25 Write a Python script to determine the type of a character (uppercase, lowercase, or special) \n",
    "ch=input(\"Please enter a character: \")\n",
    "if(ch.isupper()):\n",
    "    print(ch,\" is an uppercase letter\")\n",
    "elif (ch.islower()):\n",
    "    print(ch,\" is a lowercase letter\")\n",
    "else:\n",
    "    print(ch,\" is special ch\")"
   ]
  },
  {
   "cell_type": "code",
   "execution_count": 64,
   "id": "ecf2f220-3ad2-41ec-8ff8-70124b46cc26",
   "metadata": {},
   "outputs": [
    {
     "name": "stdin",
     "output_type": "stream",
     "text": [
      "Enter purchase amount  6070\n"
     ]
    },
    {
     "name": "stdout",
     "output_type": "stream",
     "text": [
      "Discount Amount = 107.00\n",
      "Net Bill Amount = 5963.00\n"
     ]
    }
   ],
   "source": [
    "# QUES 26 Implement a program to calculate the discounted price based on different purchase amounts using\n",
    "p=int(input('Enter purchase amount '))\n",
    "\n",
    "if p<=5000:\n",
    "    dis=0\n",
    "elif p>5000 and p<=10000:\n",
    "    dis=(p-5000)*(10/100.0)\n",
    "elif p>10000 and p<=20000:\n",
    "    dis=(p-10000)*(20/100.0)\n",
    "elif p>20000 and p<=30000:\n",
    "    dis=(p-20000)*(30/100.0)\n",
    "else:\n",
    "    dis=(p-30000)*(40/100.0)\n",
    "\n",
    "print('Discount Amount = {:.2f}'.format(dis))\n",
    "print('Net Bill Amount = {:.2f}'.format(p-dis))"
   ]
  },
  {
   "cell_type": "code",
   "execution_count": 65,
   "id": "886e80cd-9046-45ea-972b-caf56e349c13",
   "metadata": {},
   "outputs": [
    {
     "name": "stdin",
     "output_type": "stream",
     "text": [
      "Enter your unit:  200\n"
     ]
    },
    {
     "name": "stdout",
     "output_type": "stream",
     "text": [
      "Bill Per Unit: 1089.0\n",
      "Bill after adding Line rent: 1379.0\n",
      "Bill after adding Meter rent: 1479.0\n",
      "Total Bill after adding tax: 1715.64\n"
     ]
    }
   ],
   "source": [
    "# ques 27 Develop a program to calculate the electricity bill based on different consumption slabs \n",
    "unit = int(input(\"Enter your unit: \"))\n",
    "if unit <= 100:\n",
    "    bill = unit * 3.46\n",
    "elif unit >= 101 and unit <= 300:\n",
    "    bill = 346 + ((unit - 100) * 7.43)\n",
    "elif unit >= 301 and unit <= 500:\n",
    "    bill = 346 + 1486 + ((unit - 300) * 10.32)\n",
    "else:\n",
    "    bill = 346 + 1486 + 2064 + ((unit - 500) * 11.71)\n",
    "print(\"Bill Per Unit:\",bill)\n",
    "bill = bill + (unit*1.45)\n",
    "print(\"Bill after adding Line rent:\",bill)\n",
    "bill = bill + 100\n",
    "print(\"Bill after adding Meter rent:\",bill)\n",
    "bill = bill + (bill*0.16)\n",
    "print(\"Total Bill after adding tax:\",bill)"
   ]
  },
  {
   "cell_type": "code",
   "execution_count": 66,
   "id": "bd9229f4-2cf7-48be-ae7b-97fccf6aa1ed",
   "metadata": {},
   "outputs": [
    {
     "name": "stdin",
     "output_type": "stream",
     "text": [
      "Enter the first angle in degrees:  90\n",
      "Enter the second angle in degrees:  90\n",
      "Enter the third angle in degrees:  90\n",
      "Enter the fourth angle in degrees:  90\n",
      "Enter the length of side 1:  8\n",
      "Enter the length of side 2:  8\n",
      "Enter the length of side 3:  8\n",
      "Enter the length of side 4:  8\n"
     ]
    },
    {
     "name": "stdout",
     "output_type": "stream",
     "text": [
      "The quadrilateral is a Square\n"
     ]
    }
   ],
   "source": [
    "# ques 28 Create a program to determine the type of quadrilateral based on its angles and sides\n",
    "angle1 = float(input(\"Enter the first angle in degrees: \"))\n",
    "angle2 = float(input(\"Enter the second angle in degrees: \"))\n",
    "angle3 = float(input(\"Enter the third angle in degrees: \"))\n",
    "angle4 = float(input(\"Enter the fourth angle in degrees: \"))\n",
    "\n",
    "side1 = float(input(\"Enter the length of side 1: \"))\n",
    "side2 = float(input(\"Enter the length of side 2: \"))\n",
    "side3 = float(input(\"Enter the length of side 3: \"))\n",
    "side4 = float(input(\"Enter the length of side 4: \"))\n",
    "\n",
    "# Check if the quadrilateral is a square\n",
    "if angle1 == angle2 == angle3 == angle4 == 90 and side1 == side2 == side3 == side4:\n",
    "    quadrilateral_type = \"Square\"\n",
    "\n",
    "# Check if the quadrilateral is a rectangle\n",
    "elif angle1 == angle2 == angle3 == angle4 == 90:\n",
    "    quadrilateral_type = \"Rectangle\"\n",
    "\n",
    "# Check if the quadrilateral is a parallelogram\n",
    "elif (angle1 == angle3 and angle2 == angle4) or (angle1 == angle2 and angle3 == angle4):\n",
    "    quadrilateral_type = \"Parallelogram\"\n",
    "\n",
    "# Check if the quadrilateral is a rhombus\n",
    "elif angle1 == angle2 == angle3 == angle4 and side1 == side2 == side3 == side4:\n",
    "    quadrilateral_type = \"Rhombus\"\n",
    "\n",
    "# Check if the quadrilateral is a trapezoid\n",
    "elif (side1 == side2 and side3 != side4) or (side1 != side2 and side3 == side4):\n",
    "    quadrilateral_type = \"Trapezoid\"\n",
    "\n",
    "# If none of the above conditions are met, it's a general quadrilateral\n",
    "else:\n",
    "    quadrilateral_type = \"General Quadrilateral\"\n",
    "\n",
    "# Display the type of quadrilateral\n",
    "print(\"The quadrilateral is a\", quadrilateral_type)"
   ]
  },
  {
   "cell_type": "code",
   "execution_count": 68,
   "id": "4daea160-5249-481c-9a03-fec803e61aa1",
   "metadata": {},
   "outputs": [
    {
     "name": "stdin",
     "output_type": "stream",
     "text": [
      "Enter the month (1-12):  9\n"
     ]
    },
    {
     "name": "stdout",
     "output_type": "stream",
     "text": [
      "The season for month 9 is Autumn (Fall)\n"
     ]
    }
   ],
   "source": [
    "# ques 29 Write a Python script to determine the season based on a user-provided month \n",
    "month_num = int(input(\"Enter the month (1-12): \"))\n",
    "\n",
    "# Check the season using elif statements\n",
    "if 1 <= month_num <= 12:\n",
    "    if 3 <= month_num <= 5:\n",
    "        season = \"Spring\"\n",
    "    elif 6 <= month_num <= 8:\n",
    "        season = \"Summer\"\n",
    "    elif 9 <= month_num <= 11:\n",
    "        season = \"Autumn (Fall)\"\n",
    "    else:  # Months 12, 1, and 2\n",
    "        season = \"Winter\"\n",
    "\n",
    "    # Display the season\n",
    "    print(\"The season for month\", month_num, \"is\", season)\n",
    "else:\n",
    "    print(\"Invalid month number. Please enter a number between 1 and 12.\")"
   ]
  },
  {
   "cell_type": "code",
   "execution_count": 69,
   "id": "e1498c00-eb4c-4aa3-ac43-6666907e46e8",
   "metadata": {},
   "outputs": [
    {
     "name": "stdin",
     "output_type": "stream",
     "text": [
      "Enter a year:  2066\n",
      "Enter a month (1-12):  7\n"
     ]
    },
    {
     "name": "stdout",
     "output_type": "stream",
     "text": [
      "2066 is a Common Year and the month 7 has 31 days.\n"
     ]
    }
   ],
   "source": [
    "\n",
    "# ques 30 \n",
    "year = int(input(\"Enter a year: \"))\n",
    "month = int(input(\"Enter a month (1-12): \"))\n",
    "\n",
    "# Check if it's a leap year using the rules for leap years\n",
    "if (year % 4 == 0 and year % 100 != 0) or (year % 400 == 0):\n",
    "    is_leap_year = True\n",
    "else:\n",
    "    is_leap_year = False\n",
    "\n",
    "# Check the number of days in the month using elif statements\n",
    "if 1 <= month <= 12:\n",
    "    if month in [1, 3, 5, 7, 8, 10, 12]:\n",
    "        num_days = 31\n",
    "    elif month == 2:\n",
    "        if is_leap_year:\n",
    "            num_days = 29\n",
    "        else:\n",
    "            num_days = 28\n",
    "    else:\n",
    "        num_days = 30\n",
    "\n",
    "    # Display the results\n",
    "    if is_leap_year:\n",
    "        year_type = \"Leap Year\"\n",
    "    else:\n",
    "        year_type = \"Common Year\"\n",
    "\n",
    "    print(f\"{year} is a {year_type} and the month {month} has {num_days} days.\")\n",
    "else:\n",
    "    print(\"Invalid month number. Please enter a number between 1 and 12.\")\n"
   ]
  },
  {
   "cell_type": "code",
   "execution_count": 70,
   "id": "4f6ae52f-410b-4e7f-ac4b-aeaf90a0eb21",
   "metadata": {},
   "outputs": [],
   "source": [
    "# Basic Level: pwskills\n"
   ]
  },
  {
   "cell_type": "code",
   "execution_count": 73,
   "id": "5902e149-69b5-42c2-93bd-1f7c7d1bfac5",
   "metadata": {},
   "outputs": [
    {
     "name": "stdin",
     "output_type": "stream",
     "text": [
      " enter n1 6\n"
     ]
    },
    {
     "name": "stdout",
     "output_type": "stream",
     "text": [
      " n1 is positive \n"
     ]
    }
   ],
   "source": [
    "# ques 1 Python program that checks if a given number is positive, negative, or zero.\n",
    "n1= int(input(\" enter n1\"))\n",
    "if n1>=0:\n",
    "    if n1==0:\n",
    "        print( \" n1 is zer0\")\n",
    "    else:\n",
    "        print(\" n1 is positive \")\n",
    "else:\n",
    "    print(\" n1 is negative\")\n",
    "       "
   ]
  },
  {
   "cell_type": "code",
   "execution_count": 75,
   "id": "f1b5c6b0-e8a5-4bfb-a7aa-d95980ff2377",
   "metadata": {},
   "outputs": [
    {
     "name": "stdin",
     "output_type": "stream",
     "text": [
      "enter age 16\n"
     ]
    },
    {
     "name": "stdout",
     "output_type": "stream",
     "text": [
      "not eligible for vote\n"
     ]
    }
   ],
   "source": [
    "# ques 2 Create a program to determine if a person is eligible to vote based on their age.\n",
    "age= int(input(\"enter age\"))\n",
    "#per can vote whose age is equal or more than 18\n",
    "if age>=18:\n",
    "    print( \"person is eligible for vote\")\n",
    "else:\n",
    "    print( \"not eligible for vote\")\n"
   ]
  },
  {
   "cell_type": "code",
   "execution_count": 78,
   "id": "9598e8d4-3b35-4342-bb68-1945bf14bd59",
   "metadata": {},
   "outputs": [
    {
     "name": "stdin",
     "output_type": "stream",
     "text": [
      "enetr n1 77\n",
      "enetr n2 54\n"
     ]
    },
    {
     "name": "stdout",
     "output_type": "stream",
     "text": [
      "n1 is maximum\n"
     ]
    }
   ],
   "source": [
    "#ques 3 Write a program to find the maximum of two given numbers using conditional statements.\n",
    "n1= float(input(\"enetr n1\"))\n",
    "n2= float(input(\"enetr n2\"))\n",
    "if n1>n2:\n",
    "    print(\"n1 is maximum\")\n",
    "elif n1<n2:\n",
    "    print(\"n2 is maximum\")\n",
    "else:\n",
    "    print(\" both are equal\")"
   ]
  },
  {
   "cell_type": "code",
   "execution_count": 79,
   "id": "0be1eb2f-b399-48f1-bb2f-1bd983d2f3c8",
   "metadata": {},
   "outputs": [
    {
     "name": "stdin",
     "output_type": "stream",
     "text": [
      "please enter marks 55\n"
     ]
    },
    {
     "name": "stdout",
     "output_type": "stream",
     "text": [
      "grade D\n"
     ]
    }
   ],
   "source": [
    "# ques 4 Develop a program that calculates the grade of a student based on their exam score.\n",
    "x=int(input(\"please enter marks\"))\n",
    "if x>80:\n",
    "    print(\"grade A\") \n",
    "elif x>70:\n",
    "    print(\"grade B\")\n",
    "elif x>60:\n",
    "    print(\"grade C\")\n",
    "else:\n",
    "    print(\"grade D\")"
   ]
  },
  {
   "cell_type": "code",
   "execution_count": 80,
   "id": "704630c7-9229-49be-9b0a-d5654ae55bba",
   "metadata": {},
   "outputs": [
    {
     "name": "stdin",
     "output_type": "stream",
     "text": [
      "enter year 2017\n"
     ]
    },
    {
     "name": "stdout",
     "output_type": "stream",
     "text": [
      " not a leap year\n"
     ]
    }
   ],
   "source": [
    "# ques 5 Create a program that checks if a year is a leap year or not.\n",
    "ear=int(input( \"enter year\"))\n",
    "if year%4==0:\n",
    "    print(\"leap year\")\n",
    "else:\n",
    "    print(\" not a leap year\")\n",
    "    "
   ]
  },
  {
   "cell_type": "code",
   "execution_count": 81,
   "id": "d4f8e046-e226-4e86-b8c8-bff07e798f64",
   "metadata": {},
   "outputs": [
    {
     "name": "stdin",
     "output_type": "stream",
     "text": [
      "enter l1 12\n",
      "enter l2 5\n",
      "enter l3 89\n"
     ]
    },
    {
     "name": "stdout",
     "output_type": "stream",
     "text": [
      "Scalene triangle\n"
     ]
    }
   ],
   "source": [
    "# ques 6 Write a program to classify a triangle based on its sides' lengths.\n",
    "l1= float(input(\"enter l1\"))\n",
    "l2= float(input(\"enter l2\"))\n",
    "l3= float(input(\"enter l3\"))\n",
    "if l1 == l2 == l3:\n",
    "\tprint(\"Equilateral triangle\")\n",
    "elif l1==l2 or l2==l3 or l3==l1:\n",
    "\tprint(\"isosceles triangle\")\n",
    "else:\n",
    "\tprint(\"Scalene triangle\")"
   ]
  },
  {
   "cell_type": "code",
   "execution_count": 83,
   "id": "d8fde9cf-482f-4ee0-ad7a-f76d196ea1e3",
   "metadata": {},
   "outputs": [
    {
     "name": "stdin",
     "output_type": "stream",
     "text": [
      "enter n1 55\n",
      "enter n2 98\n",
      "enter n3 44\n"
     ]
    },
    {
     "name": "stdout",
     "output_type": "stream",
     "text": [
      "n2 is largest\n"
     ]
    }
   ],
   "source": [
    "# ques 7 Build a program that determines the largest of three given numbers.\n",
    "n1= float(input(\"enter n1\"))\n",
    "n2= float(input(\"enter n2\"))\n",
    "n3= float(input(\"enter n3\"))\n",
    "\n",
    "if n1>n2:\n",
    "    if n1>n3:\n",
    "        print( \"n1 is largest\")\n",
    "elif n2>n1:\n",
    "    if n2>n3:\n",
    "        print( \"n2 is largest\")\n",
    "    else:\n",
    "        print(\"n3 is largest\")"
   ]
  },
  {
   "cell_type": "code",
   "execution_count": 84,
   "id": "99c71672-d4f3-4202-bd2c-3da9c1757690",
   "metadata": {},
   "outputs": [
    {
     "name": "stdin",
     "output_type": "stream",
     "text": [
      "enter any char u\n"
     ]
    },
    {
     "name": "stdout",
     "output_type": "stream",
     "text": [
      "vowel\n"
     ]
    }
   ],
   "source": [
    "# ques 8 Develop a program that checks whether a character is a vowel or a consonant.\n",
    "char= input( \"enter any char\")\n",
    "if char == 'a' or char == 'e' or char == 'i' or char == 'o' or char == 'u':\n",
    "    print(\"vowel\")\n",
    "else:\n",
    "    print(\"consonant\")"
   ]
  },
  {
   "cell_type": "code",
   "execution_count": 1,
   "id": "ea57b90e-3a7c-4ea9-a642-15a263aa5afa",
   "metadata": {},
   "outputs": [
    {
     "name": "stdout",
     "output_type": "stream",
     "text": [
      "Available items:\n",
      "- item1: $10.00\n",
      "- item2: $15.00\n",
      "- item3: $20.00\n",
      "- item4: $25.00\n"
     ]
    },
    {
     "name": "stdin",
     "output_type": "stream",
     "text": [
      "Enter an item to add to your cart (or 'done' to finish shopping):  done\n"
     ]
    },
    {
     "name": "stdout",
     "output_type": "stream",
     "text": [
      "Total cost of your items: ${total_cost:.2f}\n"
     ]
    }
   ],
   "source": [
    "# ques 9 Create a program to calculate the total cost of a shopping cart based on discounts.\n",
    "\n",
    "# Create an empty shopping cart (dictionary to store items and their prices)\n",
    "cart = {}\n",
    "\n",
    "# Define item prices and discounts\n",
    "item_prices = {\n",
    "    \"item1\": 10.00,\n",
    "    \"item2\": 15.00,\n",
    "    \"item3\": 20.00,\n",
    "    \"item4\": 25.00,\n",
    "}\n",
    "\n",
    "item_discounts = {\n",
    "    \"item1\": 0.10,  # 10% discount\n",
    "    \"item2\": 0.15,  # 15% discount\n",
    "    \"item3\": 0.20,  # 20% discount\n",
    "    \"item4\": 0.25,  # 25% discount\n",
    "}\n",
    "\n",
    "# Shopping loop\n",
    "while True:\n",
    "    print(\"Available items:\")\n",
    "    for item in item_prices:\n",
    "        print(f\"- {item}: ${item_prices[item]:.2f}\")\n",
    "\n",
    "    user_input = input(\"Enter an item to add to your cart (or 'done' to finish shopping): \")\n",
    "\n",
    "    if user_input == \"done\":\n",
    "        break\n",
    "    elif user_input in item_prices:\n",
    "        cart[user_input] = cart.get(user_input, 0) + 1\n",
    "        print(f\"'{user_input}' has been added to your cart.\")\n",
    "    else:\n",
    "        print(\"Invalid item. Please choose from the available items.\")\n",
    "\n",
    "# Calculate the total cost\n",
    "total_cost = 0.0\n",
    "\n",
    "for item in cart:\n",
    "    item_price = item_prices[item]\n",
    "    item_discount = item_discounts[item]\n",
    "    item_count = cart[item]\n",
    "    \n",
    "    discounted_price = item_price * (1 - item_discount)\n",
    "    total_cost += discounted_price * item_count\n",
    "\n",
    "# Display the total cost\n",
    "print(\"Total cost of your items: ${total_cost:.2f}\")"
   ]
  },
  {
   "cell_type": "code",
   "execution_count": 2,
   "id": "51521689-4b4f-4071-be0f-c34d13415c89",
   "metadata": {},
   "outputs": [
    {
     "name": "stdin",
     "output_type": "stream",
     "text": [
      "enter n 8\n"
     ]
    },
    {
     "name": "stdout",
     "output_type": "stream",
     "text": [
      "even number\n"
     ]
    }
   ],
   "source": [
    "# ques 10 Write a program that checks if a given number is even or odd.\n",
    "n= int(input(\"enter n\"))\n",
    "# evn or odd\n",
    "\n",
    "if n %2==0:\n",
    "    print(\"even number\")\n",
    "else:\n",
    "    print(\"odd number\")"
   ]
  },
  {
   "cell_type": "code",
   "execution_count": null,
   "id": "cbfa9051-a401-4794-9d68-719c2c4da204",
   "metadata": {},
   "outputs": [],
   "source": [
    "# ques Intermediate Level"
   ]
  },
  {
   "cell_type": "code",
   "execution_count": 7,
   "id": "d7862737-a33c-476b-a936-2aac89a2312f",
   "metadata": {},
   "outputs": [
    {
     "name": "stdin",
     "output_type": "stream",
     "text": [
      "Enter the coefficient a:  10\n",
      "Enter the coefficient b:  8\n",
      "Enter the coefficient c:  6\n"
     ]
    },
    {
     "name": "stdout",
     "output_type": "stream",
     "text": [
      "The roots are complex.\n",
      "Root 1 = -0.4 + 0.6633249580710799 i\n",
      "Root 2 = -0.4 - 0.6633249580710799 i\n"
     ]
    }
   ],
   "source": [
    "# ques 11 Write a program that calculates the roots of a quadratic equation .\n",
    "a = float(input(\"Enter the coefficient a: \"))\n",
    "b = float(input(\"Enter the coefficient b: \"))\n",
    "c = float(input(\"Enter the coefficient c: \"))\n",
    "\n",
    "# Calculate the discriminant\n",
    "discriminant = b**2 - 4*a*c\n",
    "\n",
    "# Checking the discriminant to determine the type of roots\n",
    "if discriminant > 0:\n",
    "    # Two distinct real roots\n",
    "    root1 = (-b + (discriminant ** 0.5)) / (2 * a)\n",
    "    root2 = (-b - (discriminant ** 0.5)) / (2 * a)\n",
    "    print(\"The roots are real and distinct.\")\n",
    "    print(\"Root 1 =\", root1)\n",
    "    print(\"Root 2 =\", root2)\n",
    "elif discriminant == 0:\n",
    "    # One real root (repeated)\n",
    "    root = -b / (2 * a)\n",
    "    print(\"The root is real and repeated.\")\n",
    "    print(\"Root =\", root)\n",
    "else:\n",
    "    # Complex roots\n",
    "    real_part = -b / (2 * a)\n",
    "    imaginary_part = (abs(discriminant) ** 0.5) / (2 * a)\n",
    "    print(\"The roots are complex.\")\n",
    "    print(\"Root 1 =\", real_part, \"+\", imaginary_part, \"i\")\n",
    "    print(\"Root 2 =\", real_part, \"-\", imaginary_part, \"i\")"
   ]
  },
  {
   "cell_type": "code",
   "execution_count": 16,
   "id": "db7c2fc0-873a-4fbf-9cde-69a3d4c0f251",
   "metadata": {},
   "outputs": [
    {
     "name": "stdin",
     "output_type": "stream",
     "text": [
      "Enter a number (1-7) to represent the day of the week:  7\n"
     ]
    },
    {
     "name": "stdout",
     "output_type": "stream",
     "text": [
      "The day corresponding to 7 is Sunday\n"
     ]
    }
   ],
   "source": [
    "# ques 12 Create a program that determines the day of the week based on the day number (1-7).\n",
    "day_number = int(input(\"Enter a number (1-7) to represent the day of the week: \"))\n",
    "\n",
    "# Using nested if-else statements to determine the day of the week\n",
    "if day_number == 1:\n",
    "    day_name = \"Monday\"\n",
    "elif day_number == 2:\n",
    "    day_name = \"Tuesday\"\n",
    "elif day_number == 3:\n",
    "    day_name = \"Wednesday\"\n",
    "elif day_number == 4:\n",
    "    day_name = \"Thursday\"\n",
    "elif day_number == 5:\n",
    "    day_name = \"Friday\"\n",
    "elif day_number == 6:\n",
    "    day_name = \"Saturday\"\n",
    "elif day_number == 7:\n",
    "    day_name = \"Sunday\"\n",
    "else:\n",
    "    day_name = \"Invalid day number\"\n",
    "\n",
    "# Displaying the result\n",
    "print(\"The day corresponding to\", day_number, \"is\", day_name)"
   ]
  },
  {
   "cell_type": "code",
   "execution_count": 15,
   "id": "4559be8a-7db7-4741-b3bf-54f925b07e3d",
   "metadata": {},
   "outputs": [
    {
     "name": "stdout",
     "output_type": "stream",
     "text": [
      "The factorial of 7 is 5040\n"
     ]
    }
   ],
   "source": [
    "# ques 13 Develop a program that calculates the factorial of a given number using recursion.\n",
    "# Factorial of a number using recursion\n",
    "\n",
    "def recur_factorial(n):\n",
    "   if n == 1:\n",
    "       return n\n",
    "   else:\n",
    "       return n*recur_factorial(n-1)\n",
    "\n",
    "num = 7\n",
    "\n",
    "# check if the number is negative\n",
    "if num < 0:\n",
    "   print(\"Sorry, factorial does not exist for negative numbers\")\n",
    "elif num == 0:\n",
    "   print(\"The factorial of 0 is 1\")\n",
    "else:\n",
    "   print(\"The factorial of\", num, \"is\", recur_factorial(num))"
   ]
  },
  {
   "cell_type": "code",
   "execution_count": 17,
   "id": "1b49044c-e8c1-403a-aef9-1b14f07b187a",
   "metadata": {},
   "outputs": [
    {
     "name": "stdin",
     "output_type": "stream",
     "text": [
      "Enter the first number:  66\n",
      "Enter the second number:  89\n",
      "Enter the third number:  55\n"
     ]
    },
    {
     "name": "stdout",
     "output_type": "stream",
     "text": [
      "The largest number among 66.0 , 89.0 , and 55.0 is 89.0\n"
     ]
    }
   ],
   "source": [
    "# ques 14 Write a program to find the largest among three numbers without using the `max()` function.\n",
    "num1 = float(input(\"Enter the first number: \"))\n",
    "num2 = float(input(\"Enter the second number: \"))\n",
    "num3 = float(input(\"Enter the third number: \"))\n",
    "\n",
    "# Using the max() function to find the largest number\n",
    "largest = max(num1, num2, num3)\n",
    "\n",
    "# Display the largest number\n",
    "print(\"The largest number among\", num1, \",\", num2, \", and\", num3, \"is\", largest)"
   ]
  },
  {
   "cell_type": "code",
   "execution_count": 1,
   "id": "b97a865c-6cee-4cf4-8826-89b917f48e18",
   "metadata": {},
   "outputs": [
    {
     "name": "stdout",
     "output_type": "stream",
     "text": [
      "ATM Menu:\n",
      "1. Check Balance\n",
      "2. Make a Deposit\n",
      "3. Make a Withdrawal\n",
      "4. Exit\n",
      "\n"
     ]
    },
    {
     "name": "stdin",
     "output_type": "stream",
     "text": [
      "Enter your choice (1/2/3/4):  4\n"
     ]
    },
    {
     "name": "stdout",
     "output_type": "stream",
     "text": [
      "Thank you for using the ATM. Goodbye!\n"
     ]
    }
   ],
   "source": [
    "# ques  15 Create a program that simulates a basic ATM transaction menu.\n",
    "\n",
    "\n",
    "account_balance = 1000.00\n",
    "\n",
    "# Function to display the ATM menu\n",
    "def display_menu():\n",
    "    print(\"ATM Menu:\")\n",
    "    print(\"1. Check Balance\")\n",
    "    print(\"2. Make a Deposit\")\n",
    "    print(\"3. Make a Withdrawal\")\n",
    "    print(\"4. Exit\")\n",
    "    print()\n",
    "\n",
    "# Function to check the account balance\n",
    "def check_balance():\n",
    "    print(f\"Your account balance is ${account_balance:.2f}\")\n",
    "\n",
    "# Function to make a deposit\n",
    "def make_deposit():\n",
    "    global account_balance\n",
    "    deposit_amount = float(input(\"Enter the deposit amount: $\"))\n",
    "    if deposit_amount > 0:\n",
    "        account_balance += deposit_amount\n",
    "        print(f\"Deposit of ${deposit_amount:.2f} successful.\")\n",
    "    else:\n",
    "        print(\"Invalid deposit amount. Please enter a positive number.\")\n",
    "\n",
    "# Function to make a withdrawal\n",
    "def make_withdrawal():\n",
    "    global account_balance\n",
    "    withdrawal_amount = float(input(\"Enter the withdrawal amount: $\"))\n",
    "    if withdrawal_amount > 0 and withdrawal_amount <= account_balance:\n",
    "        account_balance -= withdrawal_amount\n",
    "        print(f\"Withdrawal of ${withdrawal_amount:.2f} successful.\")\n",
    "    elif withdrawal_amount > account_balance:\n",
    "        print(\"Insufficient funds. Cannot withdraw that amount.\")\n",
    "    else:\n",
    "        print(\"Invalid withdrawal amount. Please enter a positive number.\")\n",
    "\n",
    "# Main program loop\n",
    "while True:\n",
    "    display_menu()\n",
    "    choice = input(\"Enter your choice (1/2/3/4): \")\n",
    "\n",
    "    if choice == '1':\n",
    "        check_balance()\n",
    "    elif choice == '2':\n",
    "        make_deposit()\n",
    "    elif choice == '3':\n",
    "        make_withdrawal()\n",
    "    elif choice == '4':\n",
    "        print(\"Thank you for using the ATM. Goodbye!\")\n",
    "        break\n",
    "    else:\n",
    "        print(\"Invalid choice. Please select a valid option.\")"
   ]
  },
  {
   "cell_type": "code",
   "execution_count": 2,
   "id": "906567c7-2ec4-44f6-9d36-2ae7b2f57333",
   "metadata": {},
   "outputs": [
    {
     "name": "stdin",
     "output_type": "stream",
     "text": [
      "Enter a string shivani\n"
     ]
    },
    {
     "name": "stdout",
     "output_type": "stream",
     "text": [
      "Not Palindrome\n"
     ]
    }
   ],
   "source": [
    "# ques 16 Build a program that checks if a given string is a palindrome or not.\n",
    "a=input(\"Enter a string\")\n",
    "b=a[::-1]\n",
    "if (a==b):\n",
    "    print(\"Palindrome\")\n",
    "else:\n",
    "    print(\"Not Palindrome\")"
   ]
  },
  {
   "cell_type": "code",
   "execution_count": 7,
   "id": "6a92aeef-0e57-4d3e-a134-c72931f755b3",
   "metadata": {},
   "outputs": [
    {
     "name": "stdin",
     "output_type": "stream",
     "text": [
      "Enter a list of numbers separated by spaces:  3 4 5\n"
     ]
    },
    {
     "name": "stdout",
     "output_type": "stream",
     "text": [
      "The average (excluding the smallest and largest values) is: 4.00\n"
     ]
    }
   ],
   "source": [
    "# ques 17 \n",
    "def calculate_average_excluding_extremes(numbers):\n",
    "    if len(numbers) < 3:\n",
    "        raise ValueError(\"The list must contain at least 3 numbers to calculate the average excluding extremes.\")\n",
    "    \n",
    "    # Find the smallest and largest values\n",
    "    smallest = min(numbers)\n",
    "    largest = max(numbers)\n",
    "\n",
    "    # Calculate the sum of all numbers excluding the smallest and largest\n",
    "    sum_excluding_extremes = sum(num for num in numbers if num != smallest and num != largest)\n",
    "\n",
    "    # Calculate the count of numbers excluding the smallest and largest\n",
    "    count_excluding_extremes = len(numbers) - 2\n",
    "\n",
    "    # Calculate the average\n",
    "    average = sum_excluding_extremes / count_excluding_extremes\n",
    "\n",
    "    return average\n",
    "\n",
    "# Input a list of numbers\n",
    "try:\n",
    "    num_list = [float(x) for x in input(\"Enter a list of numbers separated by spaces: \").split()]\n",
    "    result = calculate_average_excluding_extremes(num_list)\n",
    "    print(f\"The average (excluding the smallest and largest values) is: {result:.2f}\")\n",
    "except ValueError as e:\n",
    "    print(e)\n",
    "except ZeroDivisionError:\n",
    "    print(\"There are no values to calculate the average.\")"
   ]
  },
  {
   "cell_type": "code",
   "execution_count": 8,
   "id": "4e4bb989-519d-4156-a18c-5b57bb07abbf",
   "metadata": {},
   "outputs": [
    {
     "name": "stdin",
     "output_type": "stream",
     "text": [
      "Enter temperature in celsius:  44\n"
     ]
    },
    {
     "name": "stdout",
     "output_type": "stream",
     "text": [
      "44.0 degree Celsius is equal to 111.2 degree Fahrenheit.\n"
     ]
    }
   ],
   "source": [
    "# ques 18 Develop a program that converts a given temperature from Celsius to Fahrenheit.\n",
    "celsius = float(input(\"Enter temperature in celsius: \"))\n",
    "fahrenheit = (celsius * 1.8) + 32\n",
    "print(str(celsius )+ \" degree Celsius is equal to \" + str(fahrenheit )+ \" degree Fahrenheit.\")\n"
   ]
  },
  {
   "cell_type": "code",
   "execution_count": 9,
   "id": "93f3082f-eaa1-40b3-a22d-1eaed0d56feb",
   "metadata": {},
   "outputs": [
    {
     "name": "stdout",
     "output_type": "stream",
     "text": [
      "Please select the operation.\n",
      "a. Add\n",
      "b. Subtract\n",
      "c. Multiply\n",
      "d. Divide\n"
     ]
    },
    {
     "name": "stdin",
     "output_type": "stream",
     "text": [
      "Please enter choice (a/ b/ c/ d):  b\n",
      "Please enter the first number:  5\n",
      "Please enter the second number:  6\n"
     ]
    },
    {
     "name": "stdout",
     "output_type": "stream",
     "text": [
      "5  -  6  =  -1\n"
     ]
    }
   ],
   "source": [
    "# ques 19 Create a program that simulates a basic calculator for addition, subtraction, multiplication, and division.\n",
    "def add(P, Q):    \n",
    "   # This function is used for adding two numbers   \n",
    "   return P + Q   \n",
    "def subtract(P, Q):   \n",
    "   # This function is used for subtracting two numbers   \n",
    "   return P - Q   \n",
    "def multiply(P, Q):   \n",
    "   # This function is used for multiplying two numbers   \n",
    "   return P * Q   \n",
    "def divide(P, Q):   \n",
    "   # This function is used for dividing two numbers    \n",
    "   return P / Q    \n",
    "# Now we will take inputs from the user    \n",
    "print (\"Please select the operation.\")    \n",
    "print (\"a. Add\")    \n",
    "print (\"b. Subtract\")    \n",
    "print (\"c. Multiply\")    \n",
    "print (\"d. Divide\")    \n",
    "    \n",
    "choice = input(\"Please enter choice (a/ b/ c/ d): \")    \n",
    "    \n",
    "num_1 = int (input (\"Please enter the first number: \"))    \n",
    "num_2 = int (input (\"Please enter the second number: \"))    \n",
    "    \n",
    "if choice == 'a':    \n",
    "   print (num_1, \" + \", num_2, \" = \", add(num_1, num_2))    \n",
    "    \n",
    "elif choice == 'b':    \n",
    "   print (num_1, \" - \", num_2, \" = \", subtract(num_1, num_2))    \n",
    "    \n",
    "elif choice == 'c':    \n",
    "   print (num1, \" * \", num2, \" = \", multiply(num1, num2))    \n",
    "elif choice == 'd':    \n",
    "   print (num_1, \" / \", num_2, \" = \", divide(num_1, num_2))    \n",
    "else:    \n",
    "   print (\"This is an invalid input\")    "
   ]
  },
  {
   "cell_type": "code",
   "execution_count": 15,
   "id": "e151702e-5580-4393-a7bf-0eeff39deffa",
   "metadata": {},
   "outputs": [
    {
     "name": "stdin",
     "output_type": "stream",
     "text": [
      "Enter your annual income: $ 400000\n"
     ]
    },
    {
     "name": "stdout",
     "output_type": "stream",
     "text": [
      "Your income tax is: $143999.10\n"
     ]
    }
   ],
   "source": [
    "# ques 21 \n",
    "tax_brackets = [(0, 10000, 0.1), (10001, 50000, 0.2), (50001, 100000, 0.3), (100001, float('inf'), 0.4)]\n",
    "\n",
    "# Function to calculate income tax\n",
    "def calculate_income_tax(income):\n",
    "    tax = 0\n",
    "    for bracket in tax_brackets:\n",
    "        min_income, max_income, rate = bracket\n",
    "        if income <= min_income:\n",
    "            break\n",
    "        taxable_amount = min(max_income, income) - min_income\n",
    "        tax += taxable_amount * rate\n",
    "    return tax\n",
    "\n",
    "# Input user's income\n",
    "try:\n",
    "    income = float(input(\"Enter your annual income: $\"))\n",
    "    if income < 0:\n",
    "        raise ValueError(\"Income must be a positive number.\")\n",
    "    \n",
    "    # Calculate income tax\n",
    "    income_tax = calculate_income_tax(income)\n",
    "    print(f\"Your income tax is: ${income_tax:.2f}\")\n",
    "except ValueError as e:\n",
    "    print(e)"
   ]
  },
  {
   "cell_type": "code",
   "execution_count": 17,
   "id": "ce2e4b9d-7a47-41fe-9107-6c4341efd96e",
   "metadata": {},
   "outputs": [
    {
     "name": "stdout",
     "output_type": "stream",
     "text": [
      "Rock, Paper, Scissors Game\n",
      "Enter your choice: rock, paper, or scissors (or 'q' to quit)\n"
     ]
    },
    {
     "name": "stdin",
     "output_type": "stream",
     "text": [
      " q\n"
     ]
    }
   ],
   "source": [
    "# ques 22 \n",
    "import random\n",
    "\n",
    "def get_computer_choice():\n",
    "    choices = [\"rock\", \"paper\", \"scissors\"]\n",
    "    return random.choice(choices)\n",
    "\n",
    "def determine_winner(player_choice, computer_choice):\n",
    "    if player_choice == computer_choice:\n",
    "        return \"It's a tie!\"\n",
    "    elif (\n",
    "        (player_choice == \"rock\" and computer_choice == \"scissors\") or\n",
    "        (player_choice == \"paper\" and computer_choice == \"rock\") or\n",
    "        (player_choice == \"scissors\" and computer_choice == \"paper\")\n",
    "    ):\n",
    "        return \"You win!\"\n",
    "    else:\n",
    "        return \"Computer wins!\"\n",
    "\n",
    "while True:\n",
    "    print(\"Rock, Paper, Scissors Game\")\n",
    "    print(\"Enter your choice: rock, paper, or scissors (or 'q' to quit)\")\n",
    "    \n",
    "    player_choice = input().lower()\n",
    "    \n",
    "    if player_choice == 'q':\n",
    "        break\n",
    "    elif player_choice not in ['rock', 'paper', 'scissors']:\n",
    "        print(\"Invalid choice. Please choose 'rock', 'paper', or 'scissors'.\")\n",
    "        continue\n",
    "    \n",
    "    computer_choice = get_computer_choice()\n",
    "    \n",
    "    print(f\"You chose: {player_choice}\")\n",
    "    print(f\"Computer chose: {computer_choice}\")\n",
    "    \n",
    "    result = determine_winner(player_choice, computer_choice)\n",
    "    print(result)"
   ]
  },
  {
   "cell_type": "code",
   "execution_count": 18,
   "id": "0b4ac4bd-2d42-41bb-927f-1552926895c8",
   "metadata": {},
   "outputs": [
    {
     "name": "stdin",
     "output_type": "stream",
     "text": [
      "Enter the desired password length:  8\n",
      "Enter complexity level (low/medium/high):  high\n"
     ]
    },
    {
     "name": "stdout",
     "output_type": "stream",
     "text": [
      "Generated Password: XGLnO:t#\n"
     ]
    }
   ],
   "source": [
    "# ques 23\n",
    "import random\n",
    "import string\n",
    "\n",
    "def generate_password(length, complexity):\n",
    "    if length <= 0:\n",
    "        return \"Password length must be greater than 0.\"\n",
    "\n",
    "    if complexity not in [\"low\", \"medium\", \"high\"]:\n",
    "        return \"Invalid complexity level. Please choose 'low', 'medium', or 'high'.\"\n",
    "\n",
    "    # Define character sets based on complexity\n",
    "    if complexity == \"low\":\n",
    "        characters = string.ascii_letters + string.digits\n",
    "    elif complexity == \"medium\":\n",
    "        characters = string.ascii_letters + string.digits + string.punctuation\n",
    "    else:  # High complexity\n",
    "        characters = string.ascii_letters + string.digits + string.punctuation + string.whitespace\n",
    "\n",
    "    # Generate the password\n",
    "    password = ''.join(random.choice(characters) for _ in range(length))\n",
    "    return password\n",
    "\n",
    "# Input user preferences\n",
    "try:\n",
    "    length = int(input(\"Enter the desired password length: \"))\n",
    "    complexity = input(\"Enter complexity level (low/medium/high): \").lower()\n",
    "\n",
    "    password = generate_password(length, complexity)\n",
    "    print(f\"Generated Password: {password}\")\n",
    "except ValueError as e:\n",
    "    print(\"Invalid input. Please enter a valid password length.\")\n",
    "except Exception as e:\n",
    "    print(e)"
   ]
  },
  {
   "cell_type": "code",
   "execution_count": 19,
   "id": "1c6d6f5a-5797-4522-9c33-b100189386e4",
   "metadata": {},
   "outputs": [
    {
     "name": "stdout",
     "output_type": "stream",
     "text": [
      "Welcome to the Forest Adventure!\n",
      "You find yourself at the entrance of a dense forest.\n",
      "You have two paths to choose from:\n",
      "1. Take the path to the left.\n",
      "2. Take the path to the right.\n"
     ]
    },
    {
     "name": "stdin",
     "output_type": "stream",
     "text": [
      "Enter your choice (1/2):  1\n"
     ]
    },
    {
     "name": "stdout",
     "output_type": "stream",
     "text": [
      "You chose the left path and encounter a river.\n",
      "You can:\n",
      "1. Attempt to swim across.\n",
      "2. Look for a bridge.\n"
     ]
    },
    {
     "name": "stdin",
     "output_type": "stream",
     "text": [
      "Enter your choice (1/2):  2\n"
     ]
    },
    {
     "name": "stdout",
     "output_type": "stream",
     "text": [
      "You find a hidden bridge and safely cross the river.\n",
      "You come across a treasure chest in the forest.\n",
      "Congratulations! You found the hidden treasure.\n"
     ]
    }
   ],
   "source": [
    "# ques 24 \n",
    "import time\n",
    "\n",
    "def delay_print(text, delay=1):\n",
    "    for char in text:\n",
    "        print(char, end='', flush=True)\n",
    "        time.sleep(delay)\n",
    "    print()\n",
    "\n",
    "def start_game():\n",
    "    delay_print(\"Welcome to the Forest Adventure!\")\n",
    "    delay_print(\"You find yourself at the entrance of a dense forest.\")\n",
    "    delay_print(\"You have two paths to choose from:\")\n",
    "    delay_print(\"1. Take the path to the left.\")\n",
    "    delay_print(\"2. Take the path to the right.\")\n",
    "    \n",
    "    choice = input(\"Enter your choice (1/2): \")\n",
    "\n",
    "    if choice == '1':\n",
    "        left_path()\n",
    "    elif choice == '2':\n",
    "        right_path()\n",
    "    else:\n",
    "        delay_print(\"Invalid choice. Please enter 1 or 2.\")\n",
    "        start_game()\n",
    "\n",
    "def left_path():\n",
    "    delay_print(\"You chose the left path and encounter a river.\")\n",
    "    delay_print(\"You can:\")\n",
    "    delay_print(\"1. Attempt to swim across.\")\n",
    "    delay_print(\"2. Look for a bridge.\")\n",
    "\n",
    "    choice = input(\"Enter your choice (1/2): \")\n",
    "\n",
    "    if choice == '1':\n",
    "        delay_print(\"You bravely attempt to swim across but are caught in a strong current.\")\n",
    "        delay_print(\"Game Over! You have been swept away by the river.\")\n",
    "    elif choice == '2':\n",
    "        delay_print(\"You find a hidden bridge and safely cross the river.\")\n",
    "        delay_print(\"You come across a treasure chest in the forest.\")\n",
    "        delay_print(\"Congratulations! You found the hidden treasure.\")\n",
    "    else:\n",
    "        delay_print(\"Invalid choice. Please enter 1 or 2.\")\n",
    "        left_path()\n",
    "\n",
    "def right_path():\n",
    "    delay_print(\"You chose the right path and come across a clearing in the forest.\")\n",
    "    delay_print(\"You notice a cave entrance and a small shack.\")\n",
    "    delay_print(\"You can:\")\n",
    "    delay_print(\"1. Enter the cave.\")\n",
    "    delay_print(\"2. Investigate the small shack.\")\n",
    "\n",
    "    choice = input(\"Enter your choice (1/2): \")\n",
    "\n",
    "    if choice == '1':\n",
    "        delay_print(\"You enter the dark cave and find a sleeping dragon!\")\n",
    "        delay_print(\"Game Over! The dragon wakes up and chases you away.\")\n",
    "    elif choice == '2':\n",
    "        delay_print(\"You cautiously enter the shack and find a friendly hermit.\")\n",
    "        delay_print(\"The hermit shares stories and offers you a magical amulet for protection.\")\n",
    "        delay_print(\"You leave the shack with the amulet.\")\n",
    "        delay_print(\"Congratulations! You obtained a magical amulet.\")\n",
    "    else:\n",
    "        delay_print(\"Invalid choice. Please enter 1 or 2.\")\n",
    "        right_path()\n",
    "\n",
    "# Start the game\n",
    "start_game()"
   ]
  },
  {
   "cell_type": "code",
   "execution_count": null,
   "id": "81462419-81c9-46af-8d44-5277821d648c",
   "metadata": {},
   "outputs": [],
   "source": []
  },
  {
   "cell_type": "code",
   "execution_count": 1,
   "id": "073e8f44-57ad-4c6f-a6f6-9a030440ede0",
   "metadata": {},
   "outputs": [
    {
     "name": "stdin",
     "output_type": "stream",
     "text": [
      "Enter a year to check if it's prime:  2019\n"
     ]
    },
    {
     "name": "stdout",
     "output_type": "stream",
     "text": [
      "2019 is not a prime year.\n"
     ]
    }
   ],
   "source": [
    "# ques  27\n",
    "def is_prime(year):\n",
    "    if year <= 1:\n",
    "        return False\n",
    "    elif year <= 3:\n",
    "        return True\n",
    "    elif year % 2 == 0 or year % 3 == 0:\n",
    "        return False\n",
    "\n",
    "    i = 5\n",
    "    while i * i <= year:\n",
    "        if year % i == 0 or year % (i + 2) == 0:\n",
    "            return False\n",
    "        i += 6\n",
    "\n",
    "    return True\n",
    "\n",
    "try:\n",
    "    year = int(input(\"Enter a year to check if it's prime: \"))\n",
    "    if is_prime(year):\n",
    "        print(f\"{year} is a prime year.\")\n",
    "    else:\n",
    "        print(f\"{year} is not a prime year.\")\n",
    "except ValueError:\n",
    "    print(\"Invalid input. Please enter a valid year.\")"
   ]
  },
  {
   "cell_type": "code",
   "execution_count": 4,
   "id": "8fd5b789-700c-421e-b9d0-8f131b837783",
   "metadata": {},
   "outputs": [
    {
     "name": "stdin",
     "output_type": "stream",
     "text": [
      "Enter the first number:  33\n",
      "Enter the second number:  66\n",
      "Enter the third number:  77\n"
     ]
    },
    {
     "name": "stdout",
     "output_type": "stream",
     "text": [
      "The sorted numbers in ascending order are: 33.0, 66.0, 77.0\n"
     ]
    }
   ],
   "source": [
    "# ques 28 \n",
    "num1 = float(input(\"Enter the first number: \"))\n",
    "num2 = float(input(\"Enter the second number: \"))\n",
    "num3 = float(input(\"Enter the third number: \"))\n",
    "\n",
    "# Initialize variables to hold the sorted numbers\n",
    "min_num = 0\n",
    "mid_num = 0\n",
    "max_num = 0\n",
    "\n",
    "# Use conditional statements to sort the numbers\n",
    "if num1 <= num2 <= num3:\n",
    "    min_num = num1\n",
    "    mid_num = num2\n",
    "    max_num = num3\n",
    "elif num1 <= num3 <= num2:\n",
    "    min_num = num1\n",
    "    mid_num = num3\n",
    "    max_num = num2\n",
    "elif num2 <= num1 <= num3:\n",
    "    min_num = num2\n",
    "    mid_num = num1\n",
    "    max_num = num3\n",
    "elif num2 <= num3 <= num1:\n",
    "    min_num = num2\n",
    "    mid_num = num3\n",
    "    max_num = num1\n",
    "elif num3 <= num1 <= num2:\n",
    "    min_num = num3\n",
    "    mid_num = num1\n",
    "    max_num = num2\n",
    "else:\n",
    "    min_num = num3\n",
    "    mid_num = num2\n",
    "    max_num = num1\n",
    "\n",
    "# Print the sorted numbers in ascending order\n",
    "print(f\"The sorted numbers in ascending order are: {min_num}, {mid_num}, {max_num}\")\n"
   ]
  },
  {
   "cell_type": "code",
   "execution_count": 5,
   "id": "71c7c134-dea3-434b-b183-c183bb72056d",
   "metadata": {},
   "outputs": [
    {
     "name": "stdout",
     "output_type": "stream",
     "text": [
      "Root 1: -0.0000\n",
      "Root 2: 0.0000\n",
      "Root 3: 1.0000\n",
      "Root 4: 2.0000\n"
     ]
    }
   ],
   "source": [
    "# ques 29 \n",
    "import sympy as sp\n",
    "\n",
    "# Define the variable and the quartic equation\n",
    "x = sp.symbols('x')\n",
    "equation = x**4 - 6*x**3 + 11*x**2 - 6*x\n",
    "\n",
    "# Find the roots using the Newton-Raphson method\n",
    "roots = []\n",
    "initial_guesses = [-2.0, -1.0, 1.0, 2.0]  # Initial guesses for roots\n",
    "\n",
    "for initial_guess in initial_guesses:\n",
    "    root = sp.nsolve(equation, x, initial_guess)\n",
    "    roots.append(root)\n",
    "\n",
    "# Print the approximate roots\n",
    "for i, root in enumerate(roots):\n",
    "    print(f\"Root {i + 1}: {root:.4f}\")"
   ]
  },
  {
   "cell_type": "code",
   "execution_count": 8,
   "id": "7584dc0e-35a9-4cdd-aa1b-c3bbe0c4ed4f",
   "metadata": {},
   "outputs": [
    {
     "name": "stdin",
     "output_type": "stream",
     "text": [
      "Enter your height in meters (e.g., 1.75):  1.8\n",
      "Enter your weight in kilograms (e.g., 70):  68\n"
     ]
    },
    {
     "name": "stdout",
     "output_type": "stream",
     "text": [
      "Your BMI is: 20.99\n",
      "Your BMI is within the healthy range. Keep up the good work!\n"
     ]
    }
   ],
   "source": [
    "def calculate_bmi(height, weight):\n",
    "    # BMI formula: weight (kg) / (height (m) * height (m))\n",
    "    return weight / (height ** 2)\n",
    "\n",
    "def get_health_recommendation(bmi):\n",
    "    if bmi < 18.5:\n",
    "        return \"You are underweight. Consider gaining some weight to maintain a healthy BMI.\"\n",
    "    elif 18.5 <= bmi < 24.9:\n",
    "        return \"Your BMI is within the healthy range. Keep up the good work!\"\n",
    "    elif 25 <= bmi < 29.9:\n",
    "        return \"You are overweight. Consider losing some weight to maintain a healthy BMI.\"\n",
    "    else:\n",
    "        return \"You are obese. It's important to focus on a balanced diet and regular exercise.\"\n",
    "\n",
    "try:\n",
    "    height = float(input(\"Enter your height in meters (e.g., 1.75): \"))\n",
    "    weight = float(input(\"Enter your weight in kilograms (e.g., 70): \"))\n",
    "\n",
    "    bmi = calculate_bmi(height, weight)\n",
    "    print(f\"Your BMI is: {bmi:.2f}\")\n",
    "    \n",
    "    recommendation = get_health_recommendation(bmi)\n",
    "    print(recommendation)\n",
    "except ValueError:\n",
    "    print(\"Invalid input. Please enter valid numerical values for height and weight.\")"
   ]
  },
  {
   "cell_type": "code",
   "execution_count": 9,
   "id": "93fc39f5-8be5-4ece-a126-f63e4aa8feb3",
   "metadata": {},
   "outputs": [],
   "source": [
    "# Challenge Level:"
   ]
  },
  {
   "cell_type": "code",
   "execution_count": 10,
   "id": "b269645a-c9d6-4765-be95-01603c3dfcd2",
   "metadata": {},
   "outputs": [
    {
     "name": "stdin",
     "output_type": "stream",
     "text": [
      "Enter a password:  ajeet1223\n"
     ]
    },
    {
     "name": "stdout",
     "output_type": "stream",
     "text": [
      "Password is not valid. Please follow the complexity rules.\n"
     ]
    }
   ],
   "source": [
    "# ques 31 Create a program that validates a password based on complexity rules (length, characters, etc.).\n",
    "import re\n",
    "\n",
    "def is_valid_password(password):\n",
    "    # Check length (at least 8 characters)\n",
    "    if len(password) < 8:\n",
    "        return False\n",
    "\n",
    "    # Check for at least one uppercase letter\n",
    "    if not any(char.isupper() for char in password):\n",
    "        return False\n",
    "\n",
    "    # Check for at least one lowercase letter\n",
    "    if not any(char.islower() for char in password):\n",
    "        return False\n",
    "\n",
    "    # Check for at least one digit\n",
    "    if not any(char.isdigit() for char in password):\n",
    "        return False\n",
    "\n",
    "    # Check for at least one special character (e.g., !, @, #, $, etc.)\n",
    "    if not re.search(r'[!@#$%^&*()_+{}\\[\\]:;<>,.?~\\\\|]', password):\n",
    "        return False\n",
    "\n",
    "    return True\n",
    "\n",
    "# Input a password from the user\n",
    "password = input(\"Enter a password: \")\n",
    "\n",
    "if is_valid_password(password):\n",
    "    print(\"Password is valid.\")\n",
    "else:\n",
    "    print(\"Password is not valid. Please follow the complexity rules.\")"
   ]
  },
  {
   "cell_type": "code",
   "execution_count": 6,
   "id": "45330449-7d4a-43ad-9503-b817376421e5",
   "metadata": {},
   "outputs": [
    {
     "name": "stdin",
     "output_type": "stream",
     "text": [
      "Enter the first number:  66\n",
      "Enter the second number:  88\n"
     ]
    },
    {
     "name": "stdout",
     "output_type": "stream",
     "text": [
      "The GCD of 66 and 88 is 22\n"
     ]
    }
   ],
   "source": [
    "# ques 33 Write a program that calculates the greatest common divisor (GCD) of two numbers using the Euclidean\n",
    "def euclidean_gcd(a, b):\n",
    "    while b:\n",
    "        a, b = b, a % b\n",
    "    return a\n",
    "\n",
    "try:\n",
    "    num1 = int(input(\"Enter the first number: \"))\n",
    "    num2 = int(input(\"Enter the second number: \"))\n",
    "\n",
    "    gcd = euclidean_gcd(num1, num2)\n",
    "    print(f\"The GCD of {num1} and {num2} is {gcd}\")\n",
    "except ValueError:\n",
    "    print(\"Invalid input. Please enter valid numerical values for both numbers.\")\n",
    "    "
   ]
  },
  {
   "cell_type": "code",
   "execution_count": null,
   "id": "1cf972de-d32d-4c5f-aeaa-5948700088b0",
   "metadata": {},
   "outputs": [],
   "source": [
    "def matrix_multiply(matrix1, matrix2):\n",
    "    # Check if matrix multiplication is possible\n",
    "    if len(matrix1[0]) != len(matrix2):\n",
    "        return None\n",
    "\n",
    "    # Initialize the result matrix with zeros\n",
    "    result = []\n",
    "    for i in range(len(matrix1)):\n",
    "        row = []\n",
    "        for j in range(len(matrix2[0])):\n",
    "            row.append(0)\n",
    "        result.append(row)\n",
    "\n",
    "    # Perform matrix multiplication\n",
    "    for i in range(len(matrix1)):\n",
    "        for j in range(len(matrix2[0])):\n",
    "            for k in range(len(matrix2)):\n",
    "                result[i][j] += matrix1[i][k] * matrix2[k][j]\n",
    "\n",
    "    return result\n",
    "\n",
    "def print_matrix(matrix):\n",
    "    for row in matrix:\n",
    "        for element in row:\n",
    "            print(element, end=\"\\t\")\n",
    "        print()\n",
    "\n",
    "try:\n",
    "    # Input dimensions of the first matrix\n",
    "    rows1 = int(input(\"Enter the number of rows for the first matrix: \"))\n",
    "    cols1 = int(input(\"Enter the number of columns for the first matrix: \"))\n",
    "\n",
    "    # Input elements for the first matrix\n",
    "    print(\"Enter elements for the first matrix:\")\n",
    "    matrix1 = []\n",
    "    for i in range(rows1):\n",
    "        row = []\n",
    "        for j in range(cols1):\n",
    "            element = float(input(f\"Enter element at row {i + 1}, column {j + 1}: \"))\n",
    "            row.append(element)\n",
    "        matrix1.append(row)\n",
    "\n",
    "    # Input dimensions of the second matrix\n",
    "    rows2 = int(input(\"Enter the number of rows for the second matrix: \"))\n",
    "    cols2 = int(input(\"Enter the number of columns for the second matrix: \"))\n",
    "\n",
    "    # Input elements for the second matrix\n",
    "    print(\"Enter elements for the second matrix:\")\n",
    "    matrix2 = []\n",
    "    for i in range(rows2):\n",
    "        row = []\n",
    "        for j in range(cols2):\n",
    "            element = float(input(f\"Enter element at row {i + 1}, column {j + 1}: \"))\n",
    "            row.append(element)\n",
    "        matrix2.append(row)\n",
    "\n",
    "    # Perform matrix multiplication\n",
    "    product_matrix = matrix_multiply(matrix1, matrix2)\n",
    "\n",
    "    if product_matrix:\n",
    "        print(\"\\nMatrix 1:\")\n",
    "        print_matrix(matrix1)\n",
    "\n",
    "        print(\"\\nMatrix 2:\")\n",
    "        print_matrix(matrix2)\n",
    "\n",
    "        print(\"\\nMatrix 1 * Matrix 2:\")\n",
    "        print_matrix(product_matrix)\n",
    "    else:\n",
    "        print(\"\\nMatrix multiplication is not possible due to incompatible dimensions.\")\n",
    "\n",
    "except ValueError:\n",
    "    print(\"Invalid input. Please enter valid numerical values for dimensions and matrix elements.\")"
   ]
  },
  {
   "cell_type": "code",
   "execution_count": 8,
   "id": "3007705b-55eb-4f2f-ae1f-b31f2bda7747",
   "metadata": {},
   "outputs": [
    {
     "name": "stdin",
     "output_type": "stream",
     "text": [
      "Enter a number to find its prime factors:  66\n"
     ]
    },
    {
     "name": "stdout",
     "output_type": "stream",
     "text": [
      "Prime factors of 66 are: 2, 3, 11\n"
     ]
    }
   ],
   "source": [
    "# ques 40 \n",
    "def prime_factors(n):\n",
    "    factors = []\n",
    "    divisor = 2\n",
    "\n",
    "    while divisor <= n:\n",
    "        if n % divisor == 0:\n",
    "            factors.append(divisor)\n",
    "            n //= divisor\n",
    "        else:\n",
    "            divisor += 1\n",
    "\n",
    "    return factors\n",
    "\n",
    "try:\n",
    "    num = int(input(\"Enter a number to find its prime factors: \"))\n",
    "\n",
    "    if num <= 1:\n",
    "        print(\"Prime factors are not applicable for numbers less than or equal to 1.\")\n",
    "    else:\n",
    "        factors = prime_factors(num)\n",
    "        if len(factors) == 1:\n",
    "            print(f\"{num} is a prime number.\")\n",
    "        else:\n",
    "            print(f\"Prime factors of {num} are: {', '.join(map(str, factors))}\")\n",
    "except ValueError:\n",
    "    print(\"Invalid input. Please enter a valid numerical value.\")"
   ]
  },
  {
   "cell_type": "code",
   "execution_count": null,
   "id": "14360705-7062-489b-b323-13805581b028",
   "metadata": {},
   "outputs": [],
   "source": []
  }
 ],
 "metadata": {
  "kernelspec": {
   "display_name": "Python 3 (ipykernel)",
   "language": "python",
   "name": "python3"
  },
  "language_info": {
   "codemirror_mode": {
    "name": "ipython",
    "version": 3
   },
   "file_extension": ".py",
   "mimetype": "text/x-python",
   "name": "python",
   "nbconvert_exporter": "python",
   "pygments_lexer": "ipython3",
   "version": "3.10.8"
  }
 },
 "nbformat": 4,
 "nbformat_minor": 5
}
